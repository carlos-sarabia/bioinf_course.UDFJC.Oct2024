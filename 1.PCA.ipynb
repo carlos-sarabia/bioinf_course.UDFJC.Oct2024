{
 "cells": [
  {
   "cell_type": "markdown",
   "id": "29e19a59-80d4-4812-a576-7518aac6e9c2",
   "metadata": {},
   "source": [
    "**Primera parte: PCA**"
   ]
  },
  {
   "cell_type": "markdown",
   "id": "a7ac0977-a2cd-438c-9e93-f40c052fe4d7",
   "metadata": {},
   "source": [
    "En esta primera parte vamos a explorar cómo hacer una PCA usando el paquete ngsTools. ngsTools (Fumagalli et al. 2015) fue diseñado específicamente para trabajar con genotype likelihoods o probabilidad de genotipos. "
   ]
  },
  {
   "cell_type": "markdown",
   "id": "5afa867c-f9fd-4068-a780-68f1587f968a",
   "metadata": {},
   "source": [
    "La idea detrás del uso de probabilidades de genotipos en vez de genotipos es que normalmente, para tener certeza de que has llamado un genotipo con las herramientas bioinformáticas que tenemos, necesitas una media-buena cobertura (una media de 10-15X). Esto no siempre se consigue, ya que pede haber ADN antiguo, o podemos decidir secuenciar a menor profundidad para hacer el estudio más económico (por ejemplo, 5X en vez de 15X). ngsTools ha demostrado ser una herramienta muy útil capaz de llamar probabilidades de genotipo incluso a 2X. "
   ]
  },
  {
   "cell_type": "markdown",
   "id": "ad43db35-7435-4d5b-96dc-c4920da2c8bc",
   "metadata": {},
   "source": [
    "La razón por la que en bajas coberturas es mejor usar probabilidades de genotipo que genotipos es porque hay una incertidumbre en cuanto a los SNPs heterocigotos. Por ejemplo, si tenemos 20X y salen 20 A en un sitio, es seguro que es homocigoto. Si salen 9 A y 11 T, es seguro que el sitio es heterocigoto. Pero si tenemos 3X y tenemos 3A o 3T, la probabilidad de perder un alelo (\"allelic dropout\") es más alta. También es más probable que tengamos falsos alelos, por error de amplificación o de secuenciación."
   ]
  },
  {
   "cell_type": "markdown",
   "id": "eecbb891-5f6c-444d-9262-92f316be806f",
   "metadata": {},
   "source": [
    "![Alt text](./maxresdefault.jpg)"
   ]
  },
  {
   "cell_type": "markdown",
   "id": "18d9c89b-0afb-44ec-8f60-ab5ee08e68f6",
   "metadata": {},
   "source": [
    "Para tu trabajo en PCA, no necesitas usar siempre probabilidades de genotipo. Si tienes un dataset adecado a 20X, puedes usar genotipos tranquilamente. En este caso particular trabajaremos con el cromosoma 38 de varios lobos y perros. Mi dataset tenía genomas a 5X, 7X e incluso 30X, así que para evitar sesgos usaremos simplemente probabilidades de genotipo para todos. "
   ]
  },
  {
   "cell_type": "markdown",
   "id": "3c357f01-a5bc-4259-881e-bccd986d0cd7",
   "metadata": {},
   "source": [
    "Los archivos \"geno\" que tienes fueron generados en ANGSD (un \"genotype likelihood caller\" o \"llamador de probabilidades de genotipo\", puedes encontrar su wiki en https://www.popgen.dk/angsd/index.php/ANGSD#Overview). Para hacerlo usé el comando:"
   ]
  },
  {
   "cell_type": "code",
   "execution_count": null,
   "id": "822c78e6-2ed6-400b-bb38-56b1e2f20c83",
   "metadata": {},
   "outputs": [],
   "source": [
    "$PROG/angsd/angsd -P 16 -bam $BAM/23genomes.chr01.filelist -ref $REF -out $OUT/chr01.canfam -r chr01 \\\n",
    "\t-uniqueOnly 1 -remove_bads 1 -only_proper_pairs 1 -trim 0 -C 50 -baq 1 \\\n",
    "\t-minMapQ 20 -minQ 20 -minInd 23 -setMinDepth 46 -setMaxDepth 742 -doCounts 1 \\\n",
    "\t-GL 1 -doMajorMinor 1 -doMaf 1 -skipTriallelic 1 -minIndDepth 5 -sites $SITES -SNP_pval 1e-5 -doGeno 32 -doPost 1"
   ]
  },
  {
   "cell_type": "markdown",
   "id": "55fa06d1-955d-4707-bb77-e3b9961979d0",
   "metadata": {},
   "source": [
    "En este paso usé varios parámetros estándares de ANGSD para asegurar la calidad de las probabilidades de genotipo (-uniqueOnly 1 -remove_bads 1 -only_proper_pairs 1 -trim 0 -C 50 -baq 1), filtré sitios con menor calidad de llamado y mapeo que 20 (phred score: 99% seguro), filtré sitios que no estaban presentes en todos los 23 genomas (-minInd 23), puse una profundidad mínima de 2X (46, para 23 muestras), calculé la cobertura acumulada de todos los sitios y filtré sitios 2X por encima de ella para filtrar genes con más de dos copias -por ejemplo, amilasa en perros(-setMaxDepth 742) y llamé genotipos (-doGeno 32 -doPost 1 -GL 1 -doMajorMinor 1 -doMaf 1). \n",
    "\n",
    "Tenéis más información sobre estos parámetros en la wiki de ANGSD. De momento, trabajemos en ngsTools. \n"
   ]
  },
  {
   "cell_type": "code",
   "execution_count": null,
   "id": "32ebd769-eb96-4d76-a0e5-f4d061d26d01",
   "metadata": {},
   "outputs": [],
   "source": [
    "prog=/home/bio/programas\n",
    "in=/home/bio/inputfiles\n",
    "out=/directorio/hacia/tu/carpeta/personal \n",
    "\n",
    "$prog/ngsTools/ngsPopGen/ngsCovar -probfile $in/chr38.150gen.pca.geno -outfile $out/chr38.150gen.pca.covar -nind 150 -nsites 91243 -call 0 -norm 0"
   ]
  },
  {
   "cell_type": "code",
   "execution_count": 3,
   "id": "c4dbe32a-23b7-47e8-bbfa-e7f398cfddf4",
   "metadata": {},
   "outputs": [
    {
     "name": "stdout",
     "output_type": "stream",
     "text": [
      "gzip: chr38.150gen.pca.mafs.gz: No such file or directory\n",
      "0\n"
     ]
    }
   ],
   "source": [
    "# mafs.gz nos dice cuántos sitios hay:\n",
    "zcat chr38.150gen.pca.mafs.gz | tail -n+2 | wc -l\n",
    "\n",
    "#¿cuales son los eigenvectores y eigenvalores?\n",
    "\n",
    "plink=$prog/plink_linux_x86_64_20240818/plink\n",
    "\n",
    "$plink --vcf $in/chr38.150gen.pca.vcf --make-bed --out $out/chr38.150gen.pca --dog\n",
    "$plink --bfile $out/chr38.150gen.pca --pca 20 --dog --out $out/pca_results"
   ]
  },
  {
   "cell_type": "markdown",
   "id": "c20db2c4-8be7-48b0-ad35-22bf539db478",
   "metadata": {},
   "source": [
    "Explora los archivos de eigenvectores e eigenvalores."
   ]
  },
  {
   "cell_type": "code",
   "execution_count": null,
   "id": "5712ec3e-d2eb-4530-8105-542aae4102b9",
   "metadata": {},
   "outputs": [],
   "source": [
    "paste $in/pop.info $out/pca_results.eigenvec > $out/pca_with_population.txt"
   ]
  },
  {
   "cell_type": "markdown",
   "id": "c4dfbc7e-980f-4944-a053-873f22a02376",
   "metadata": {},
   "source": [
    "En el ejercicio de ngsTools has creado una matriz de covarianzas.\n",
    "Vamos a estudiarla: ¿Cuántas columnas tiene? ¿Cuántas filas? "
   ]
  },
  {
   "cell_type": "code",
   "execution_count": null,
   "id": "f199794a-e12b-40b0-ab0c-fcbbc91964bb",
   "metadata": {},
   "outputs": [],
   "source": [
    "wc -l chr38.150gen.pca.covar\n",
    "cat chr38.150gen.pca.covar | head -1 | awk '{print NF}'"
   ]
  },
  {
   "cell_type": "markdown",
   "id": "ea211b04-8a25-4572-96ff-8b6640fbf363",
   "metadata": {},
   "source": [
    "Vamos a crear distintas formas de clusterizar los datos.\n",
    "\n",
    "Por procedencia de los perros y lobos:"
   ]
  },
  {
   "cell_type": "code",
   "execution_count": null,
   "id": "d58c0309-8ad6-480c-a6ae-2e700ddc4ca4",
   "metadata": {},
   "outputs": [],
   "source": [
    "Rscript -e 'write.table(cbind(seq(1,150),rep(1,150), c(rep(\"DOG.WE\",5), rep(\"DOG.IT\",10), rep(\"DOG.IB\",21), rep(\"DOG.SC\",6), rep(\"DOG.RU\",20), rep(\"DOG.SIB\",6), rep(\"EEGW\",40), rep(\"SCGW\",10), rep(\"IBGW\",32))), row.names=F, sep=\"\\t\", col.names=c(\"FID\",\"IID\",\"CLUSTER\"), file=\"dog.gw.150.cls1.clst\", quote=F)'"
   ]
  },
  {
   "cell_type": "markdown",
   "id": "2b2937bc-14ac-46ac-bce6-5da93f859d08",
   "metadata": {},
   "source": [
    "Por especie:"
   ]
  },
  {
   "cell_type": "code",
   "execution_count": null,
   "id": "f2ea40a7-b447-4a05-8cd8-9f1ca3fc97cb",
   "metadata": {},
   "outputs": [],
   "source": [
    "Rscript -e 'write.table(cbind(seq(1,150),rep(1,150), c(rep(\"DOG\",68), rep(\"NEGW\", 50), rep(\"IBGW\",32))), row.names=F, sep=\"\\t\", col.names=c(\"FID\",\"IID\",\"CLUSTER\"), file=\"dog.gw.150.cls2.clst\", quote=F)'"
   ]
  },
  {
   "cell_type": "markdown",
   "id": "bfc29cf2-4921-4c04-b21e-6ff3fde53d9b",
   "metadata": {},
   "source": [
    "Ploteemos ahora la PCA. Elige un archivo \"clst\" y crea tu fichero pdf"
   ]
  },
  {
   "cell_type": "code",
   "execution_count": null,
   "id": "1f15ad05-c2f8-4815-9df9-d2690e7b0269",
   "metadata": {},
   "outputs": [],
   "source": [
    "Rscript $prog/ngsTools/Scripts/plotPCA.R -i $out/chr38.150gen.pca.covar -c 1-2 -a $out/dog.gw.150.cls2.clst -o $out/chr38.clst1.canfam.pca.pdf\n"
   ]
  },
  {
   "cell_type": "markdown",
   "id": "5ff2bd32-99eb-41c8-a72b-8f5ac85168f5",
   "metadata": {},
   "source": [
    "Puedes descargar el plot en tu ordenador personal usando el comando scp user@172.64.16.4:/ruta/hacia/tus/archivos ./"
   ]
  },
  {
   "cell_type": "markdown",
   "id": "eae52738-114d-47f4-95f8-9e343e1d3c4e",
   "metadata": {},
   "source": [
    "Preguntas:\n",
    "\n",
    "**Pregunta 1:** ¿Qué puedes ver en la PCA? ¿Puedes ver la diferencia entre las poblaciones? \n",
    "\n",
    "**Pregunta 2:** Prueba a usar otro archivo clst y vuelve a plotearlo. ¿Qué diferencias observas?\n",
    "\n",
    "**Pregunta 3:** Modifica las PCs : -c 1-2 serían PC1 y PC2. Prueba PC1-PC3, PC2-PC4... tú eliges. ¿Qué patrones observas?"
   ]
  }
 ],
 "metadata": {
  "kernelspec": {
   "display_name": "Bash",
   "language": "bash",
   "name": "bash"
  },
  "language_info": {
   "codemirror_mode": "shell",
   "file_extension": ".sh",
   "mimetype": "text/x-sh",
   "name": "bash"
  }
 },
 "nbformat": 4,
 "nbformat_minor": 5
}
