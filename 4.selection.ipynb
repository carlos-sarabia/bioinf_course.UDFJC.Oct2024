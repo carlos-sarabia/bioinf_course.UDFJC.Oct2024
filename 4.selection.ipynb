{
 "cells": [
  {
   "cell_type": "markdown",
   "id": "3c0724f4-ddb5-4594-a7bc-75606f5ea54f",
   "metadata": {},
   "source": [
    "**Parte 4: Selección**"
   ]
  },
  {
   "cell_type": "markdown",
   "id": "044f7469-163a-4527-84f3-39873bd742f4",
   "metadata": {},
   "source": [
    "Vamos a calcular estadísticos de selección en una población de lobos africanos que viven en condiciones extremas (desierto del Sáhara). Para ello vamos a correr selscan, un paquete de estadísticos que funciona con archivos vcf y un \"mapa\" de sitios. \n",
    "\n",
    "El mapa de sitios se hace muy fácilmente: "
   ]
  },
  {
   "cell_type": "code",
   "execution_count": null,
   "id": "503277b7-177f-4291-8175-be1304c1b2d5",
   "metadata": {},
   "outputs": [],
   "source": [
    "zcat $in/chr38.agw.soft.recode.vcf.recode.vcf.gz | grep -v \"^#\" | awk '{print $1\"\\t\"$3\"\\t\"$2\"\\t\"$2 }' > $out/chr38.map\n"
   ]
  },
  {
   "cell_type": "markdown",
   "id": "48f3b9d6-37fc-4f0e-83fd-cc52fce1dabd",
   "metadata": {},
   "source": [
    "Por si acaso, ya tenéis una copia en $in. Vamos a correr nsl:"
   ]
  },
  {
   "cell_type": "code",
   "execution_count": null,
   "id": "b633e48a-aa2d-4889-b3d6-b3622194ab0d",
   "metadata": {},
   "outputs": [],
   "source": [
    "selscan=/home/bio/programas/selscan/bin/linux/selscan-2.0.3\n",
    "\n",
    "$selscan --nsl --vcf $in/chr38.agw.soft.recode.vcf.recode.vcf.gz --map $in/chr38.map --threads 10 --out $out/chr38.agw "
   ]
  },
  {
   "cell_type": "markdown",
   "id": "833c1839-e178-450f-aa2f-0127d4e6f8ec",
   "metadata": {},
   "source": [
    "Este comando calcula nSL, un estadístico de selección, en el archivo agw. Para eso usamos 10 hilos (-threads 10). Como podéis ver en la ejecución del programa, por defecto selscan va a eliminar variantes con alelos en frecuencias alélicas menores a 5% (es decir, menores de 5% o mayores de 95%) (--skip-low-freq set. Removing all variants < 0.05.)\n",
    "\n",
    "Podeis observar el output de nSL con un head. Aunque selscan no genera un header para este archivo, las columnas son:\n",
    "locusID\tphysicalPos\t'1'_freq\tsl1\tsl0\tunstandardized_nSL\n",
    "\n",
    "locusID: identificación del locus (no tenemos ninguno en este VCF)\n",
    "physicalPos: posición en el cromosoma\n",
    "'1'_freq: frecuencia del alelo '1' (alelo alternativo)\n",
    "sl1: valor del estadístico sl (único de nSL) en el alelo '1'\n",
    "sl0: valor del estadístico sl en el alelo '0' (alelo de referencia)\n",
    "unstandardized_nSL: valor de nSL"
   ]
  },
  {
   "cell_type": "code",
   "execution_count": null,
   "id": "d8644f2b-73da-46e6-8c3e-5793b0124152",
   "metadata": {},
   "outputs": [],
   "source": [
    "head $out/chr38.agw.nsl.out"
   ]
  },
  {
   "cell_type": "markdown",
   "id": "aa3dac0b-1178-4611-a628-b2d24e4c8163",
   "metadata": {},
   "source": [
    "Como veis, tenemos un valor de nSL por cada sitio del cromosoma. Pero, ¿cuáles son los relevantes? Para eso tenemos que correr norm, otro programa de selscan que normaliza los cromosomas. "
   ]
  },
  {
   "cell_type": "code",
   "execution_count": null,
   "id": "2e755236-2b64-4b46-83dd-faae7bad65e5",
   "metadata": {},
   "outputs": [],
   "source": [
    "norm=/home/bio/programas/selscan/bin/linux/norm\n",
    "$norm --nsl --files $out/chr38.agw.nsl.out --bins 20"
   ]
  },
  {
   "cell_type": "markdown",
   "id": "81200614-b209-4031-ae44-deea3c929e0d",
   "metadata": {},
   "source": [
    "Esto crea el archivo $out/chr38.agw.nsl.out.20bins.norm. Ahora teneis dos columnas mas: el valor de nSL normalizado y una columna final que dice si es significativo o no. Para ver que SNPs están bajo selección, elegid ls que en la última columna tienen un 1:"
   ]
  },
  {
   "cell_type": "code",
   "execution_count": null,
   "id": "da80e15f-7203-4967-9a9e-e12024c07369",
   "metadata": {},
   "outputs": [],
   "source": [
    "cat chr38.agw.nsl.out.20bins.norm | awk -v OFS='\\t' '{if ($8 == 1) print $0}' | head"
   ]
  },
  {
   "cell_type": "markdown",
   "id": "44748514-41a6-43a7-a7d0-b4997cc2d9de",
   "metadata": {},
   "source": [
    "**Pregunta 1**: ¿Qué sitios están bajo selección?"
   ]
  },
  {
   "cell_type": "markdown",
   "id": "521a8245-5b4c-410c-8716-29070551138e",
   "metadata": {},
   "source": [
    "Vamos a plotear esta estadística. Ejecutad:"
   ]
  },
  {
   "cell_type": "code",
   "execution_count": null,
   "id": "c3988676-afdc-4adc-8ec1-5cdd691c38ac",
   "metadata": {},
   "outputs": [],
   "source": [
    "python /home/bio/plotting/scatter_plot_script.py $out/chr38.agw.nsl.out.20bins.norm $out/nsl_plot_output.pdf\n"
   ]
  },
  {
   "cell_type": "markdown",
   "id": "330f5666-5002-4d0d-ac23-11601b8bdfdc",
   "metadata": {},
   "source": [
    "Descargad el archivo con (scp user@172.64.16.4:/ruta/hacia/tus/archivos/nsl_plot_output.pdf ./) y observadlo. **Pregunta 2**: ¿Qué veis en el plot?\n"
   ]
  }
 ],
 "metadata": {
  "kernelspec": {
   "display_name": "Python 3 (ipykernel)",
   "language": "python",
   "name": "python3"
  },
  "language_info": {
   "codemirror_mode": {
    "name": "ipython",
    "version": 3
   },
   "file_extension": ".py",
   "mimetype": "text/x-python",
   "name": "python",
   "nbconvert_exporter": "python",
   "pygments_lexer": "ipython3",
   "version": "3.12.9"
  }
 },
 "nbformat": 4,
 "nbformat_minor": 5
}
