{
 "cells": [
  {
   "cell_type": "markdown",
   "id": "d557de5f-c9b8-450b-9b01-ff40bd6eb43b",
   "metadata": {},
   "source": [
    "**Parte 2: Admixture**"
   ]
  },
  {
   "cell_type": "markdown",
   "id": "21bb1b6d-9198-488a-8266-50d818aed667",
   "metadata": {},
   "source": [
    "NGSadmix pertenece al paquete de ngsTools y se usa con genotype likelihoods. Es especialmente bueno trabajando con datos de baja cobertura. Vamos a probarlo usando varios cluster (K). \n",
    "\n",
    "En este dataset tienes 150 genomas de:\n",
    "68 perros en total:\n",
    "- 5 perros de razas de Europa Occidental (Francia, Alemania, etc)\n",
    "- 10 perros de razas italianas\n",
    "- 21 perros de razas ibéricas\n",
    "- 6 perros escandinavos \n",
    "- 20 perros rusos\n",
    "- 6 perros siberianos\n",
    "\n",
    "50 lobos del noreste de Europa:\n",
    "- 2 lobos de Letonia\n",
    "- 21 lobos rusos\n",
    "- 17 lobos finlandeses\n",
    "- 8 lobos suecos\n",
    "- 2 lobos noruegos\n",
    "\n",
    "32 lobos ibéricos:\n",
    "- 29 lobos españoles\n",
    "- 3 lobos portugueses\n",
    "\n",
    "A priori, ¿cuántos clusters crees que vas a encontrar? \n",
    "\n",
    "Vamos a probar a correr NGSadmix entre 2 (lobos y perros) y 7 (??) clusters. Luego lo visualizaremos."
   ]
  },
  {
   "cell_type": "code",
   "execution_count": null,
   "id": "95a9df48-fd8a-49b0-8bed-218972b68dc4",
   "metadata": {},
   "outputs": [],
   "source": [
    "in=/home/bio/inputfiles\n",
    "NGSADMIX=/home/bio/programas/NGSadmix\n",
    "out=/directorio/hacia/tu/carpeta/personal \n",
    "\n",
    "for i in {2..7}; do \n",
    "echo K$i\n",
    "$NGSADMIX -likes $in/chr38.150gen.ngsadmix.beagle.gz -K $i -P 20 -minMaf 0.05 -seed 1 -o $out/chr38.150gen.ngsadmix.beagle.K$i.run \n",
    "done"
   ]
  },
  {
   "cell_type": "markdown",
   "id": "0518dc0c-eec7-4321-a0dc-72941e7aa19f",
   "metadata": {},
   "source": [
    "Aquí lo que hemos hecho es un loop for en bash, que recorre todos los números entre 2 y 7, y los asigna a la variable i. \n",
    "Luego, corremos NGSADMIX usando el input (archivo beagle.gz, generado en ANGSD), especificando el número de clusters con -K (que irá usando i a medida que vaya variando), usando 20 \"hilos\" o threads (-P 20), y filtrando alelos con frecuencia menor a 5% (-minMaf 0.05). \n",
    "\n",
    "Ahora, vamos a visualizar estos datos en pong, un visualizador online de resultados de admixture. Copia los archivos que necesitas de la carpeta $in para correr pong:"
   ]
  },
  {
   "cell_type": "code",
   "execution_count": null,
   "id": "371f526e-d91b-4636-80c8-68822b4c62c2",
   "metadata": {},
   "outputs": [],
   "source": [
    "cp $in/chr38.filemap $in/pop.info_admix.txt $in/ind2pop.150canids.txt $in/palette.46colors $out"
   ]
  },
  {
   "cell_type": "markdown",
   "id": "348ef4ff-d84c-4774-af0c-7252bd8da3f3",
   "metadata": {},
   "source": [
    "Pong es un programa específico basado en python que tiene sus propios paquetes. He creado un entorno en conda que tiene todos los paquetes necesarios para correr pong adecuadamente. Para correr pong, primero tendréis que activar el entorno de conda y luego correr el programa:"
   ]
  },
  {
   "cell_type": "code",
   "execution_count": null,
   "id": "95842121-ad69-4919-b5ac-d02a2e6d0efb",
   "metadata": {},
   "outputs": [],
   "source": [
    "conda activate pong\n",
    "pong -m chr38.filemap -n pop.info_admix.txt -i ind2pop.150canids.txt -l palette.46colors"
   ]
  },
  {
   "cell_type": "markdown",
   "id": "d188bb1c-6393-4009-9cd8-491ad6c11813",
   "metadata": {},
   "source": [
    "Haced click en el programa y observad los resultados!\n",
    "\n",
    "**Pregunta 1**: ¿Puedes ver si hay individuos mezclados? ¿Qué pasa cuando K=3? ¿Y cuando K=4? "
   ]
  },
  {
   "cell_type": "markdown",
   "id": "e1e8a567-4c2f-41c6-944a-5deff1abaa3e",
   "metadata": {},
   "source": [
    "conda activate pong\n",
    "pong -m chr38.filemap -n pop.info_admix.txt -i ind2pop.150canids.txt -l palette.46colors"
   ]
  }
 ],
 "metadata": {
  "kernelspec": {
   "display_name": "Bash",
   "language": "bash",
   "name": "bash"
  },
  "language_info": {
   "codemirror_mode": "shell",
   "file_extension": ".sh",
   "mimetype": "text/x-sh",
   "name": "bash"
  }
 },
 "nbformat": 4,
 "nbformat_minor": 5
}
