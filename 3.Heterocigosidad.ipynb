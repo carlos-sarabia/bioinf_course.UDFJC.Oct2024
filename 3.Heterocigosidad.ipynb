{
 "cells": [
  {
   "cell_type": "markdown",
   "id": "61dbdea0-f638-4687-93c7-18845f67117f",
   "metadata": {},
   "source": [
    "**3.Heterocigosidad**"
   ]
  },
  {
   "cell_type": "markdown",
   "id": "9d23b364-2151-4942-9112-383093cfb3ad",
   "metadata": {},
   "source": [
    "Aquí vamos a trabajar con uno de los archivos que teneis en la carpeta inputfiles. Vamos a calcular heterocigosidad de una forma muy sencilla usando vcftools. "
   ]
  },
  {
   "cell_type": "code",
   "execution_count": null,
   "id": "86ce5348-ae85-463d-9da6-642d144a4090",
   "metadata": {},
   "outputs": [],
   "source": [
    "in=/home/bio/inputfiles\n",
    "\n",
    "vcftools --gzvcf $in/chr38.agw.gwme.gweu.soft.recode.vcf.gz --het --out $out/agw.gwme.gweu.heterozygosity\n",
    "\n",
    "#Echadle un vistazo a vuestro archivo:\n",
    "\n",
    "cat $out/agw.gwme.gweu.heterozygosity\n",
    "INDV\tO(HOM)\tE(HOM)\tN_SITES\tF\n",
    "..."
   ]
  },
  {
   "cell_type": "markdown",
   "id": "be95e86e-6a3e-46f1-a72a-f6caedc44257",
   "metadata": {},
   "source": [
    "INDV es el ID de cada individuo. \n",
    "O(HOM) es el número observado de SNPs homocigóticas\n",
    "E(HOM) es el número esperado de SNPs homocigóticas (basado en frecuencias alélicas)\n",
    "N_SITES es el número de sitios estudiados\n",
    "F es el coeficiente de cosanguinidad\n",
    "\n",
    "Vamos a ver primero qué individuos tienen mayor coeficiente de cosanguinidad:\n"
   ]
  },
  {
   "cell_type": "code",
   "execution_count": null,
   "id": "11ca4f57-c675-44f7-b5ee-05493455b0f1",
   "metadata": {},
   "outputs": [],
   "source": [
    "cat $out/agw.gwme.gweu.heterozygosity.het | tail -n+2 | sort -k5,5r | head"
   ]
  },
  {
   "cell_type": "markdown",
   "id": "7e0b5bda-4540-4f24-b3c3-6d5f2427d56a",
   "metadata": {},
   "source": [
    "Pregunta 1: ¿Cuáles son los lobos con mayor coeficiente de cosanguinidad?\n",
    "\n",
    "Ahora, vamos a plotear la heterocigosidad de cada individuo. Vuelve a activar pong, si no lo has activado ya:\n",
    "\n",
    "conda activate pong\n",
    "\n",
    "He preparado un script de python que ploteará la heterocigosidad de los individuos en un pdf. Ejecutad:"
   ]
  },
  {
   "cell_type": "code",
   "execution_count": null,
   "id": "9d30c67b-aa43-4d1d-9a1b-69075665e6a0",
   "metadata": {},
   "outputs": [
    {
     "name": "stdout",
     "output_type": "stream",
     "text": [
      "/usr/bin/python3: can't open file '/home/bio/plotting/plot_heterozygosity.py': [Errno 2] No such file or directory\n"
     ]
    }
   ],
   "source": [
    "python /home/bio/plotting/plot_heterozygosity.py $out/agw.gwme.gweu.heterozygosity.het $out/agw.gwme.gweu.heterozygosity.pdf\n",
    "\n",
    "# Podeis descargarlo así:\n",
    "\n",
    "scp user@172.64.16.4:/ruta/hacia/tus/archivos/agw.gwme.gweu.heterozygosity.pdf ./\n"
   ]
  },
  {
   "cell_type": "code",
   "execution_count": null,
   "id": "6a16bb55-eed7-47a2-bea6-02142b402ec8",
   "metadata": {},
   "outputs": [
    {
     "name": "stdout",
     "output_type": "stream",
     "text": [
      "/usr/bin/python3: can't open file '/home/bio/plotting/plot_heterozygosity.py': [Errno 2] No such file or directory\n"
     ]
    }
   ],
   "source": []
  },
  {
   "cell_type": "markdown",
   "id": "d8f091dd-e471-4ae9-adc9-8462fae3290f",
   "metadata": {},
   "source": [
    "Pregunta 2: ¿Cuáles son los lobos con menor heterocigosidad? ¿Coinciden con los lobos con mayor coeficiente de cosanguinidad?\n",
    "\n",
    "Finalmente, vamos a calcular la diversidad nucleotídica por cada SNP en toda la población. Ya que el cromosoma tiene muchos sitios, es mejor dividirlo en ventanas de 50000 bases. Podeis correr:\n"
   ]
  },
  {
   "cell_type": "code",
   "execution_count": null,
   "id": "612eeaa0-ccc7-49ad-a1e6-915b141a32f6",
   "metadata": {},
   "outputs": [],
   "source": [
    "vcftools  --gzvcf $in/chr38.agw.gwme.gweu.soft.recode.vcf.gz --window-pi 50000 --out $out/agw.gwme.gweu.windowed_per_site_pi\n"
   ]
  },
  {
   "cell_type": "markdown",
   "id": "c1028a91-11af-4d35-aec1-dd35e262c329",
   "metadata": {},
   "source": [
    "El archivo tendrá esta forma:\n",
    "CHROM\tBIN_START\tBIN_END\tN_VARIANTS\tPI\n",
    "\n",
    "CHROM es el cromosoma\n",
    "BIN_START es el inicio de la ventana\n",
    "BIN_END es el fin de la ventana\n",
    "N_VARIANTS es el número de variantes\n",
    "PI es la diversidad nucleotítica\n",
    "\n",
    "Al igual que antes, podeis observar las ventanas con mayor diversidad nucleotídica ejecutando:"
   ]
  },
  {
   "cell_type": "code",
   "execution_count": null,
   "id": "b89686f4-1496-4623-87eb-1ae2182840ff",
   "metadata": {},
   "outputs": [],
   "source": [
    "cat $out/agw.gwme.gweu.windowed_per_site_pi.windowed.pi | | tail -n+2 | sort -k5,5n | head"
   ]
  },
  {
   "cell_type": "markdown",
   "id": "3b16db48-6c8e-4bd8-8602-9caf06cd7f68",
   "metadata": {},
   "source": [
    "De nuevo, vamos a plotear estos sitios con un script de python:"
   ]
  },
  {
   "cell_type": "markdown",
   "id": "73a6e604-c2a2-4319-b6d7-1897b514022f",
   "metadata": {},
   "source": [
    "python /home/bio/plotting/plot_pi_windows.py $out/agw.gwme.gweu.windowed_per_site_pi.windowed.pi $out/windowed_pi_plot.pdf\n",
    "\n",
    "scp user@172.64.16.4:/ruta/hacia/tus/archivos/windowed_pi_plot.pdf ./\n"
   ]
  },
  {
   "cell_type": "markdown",
   "id": "0df79084-55ac-41de-854b-61247b0c3a73",
   "metadata": {},
   "source": [
    "*Pregunta 3*: ¿Ves las ventanas con mayor heterocigosidad?"
   ]
  }
 ],
 "metadata": {
  "kernelspec": {
   "display_name": "Python 3 (ipykernel)",
   "language": "python",
   "name": "python3"
  },
  "language_info": {
   "codemirror_mode": {
    "name": "ipython",
    "version": 3
   },
   "file_extension": ".py",
   "mimetype": "text/x-python",
   "name": "python",
   "nbconvert_exporter": "python",
   "pygments_lexer": "ipython3",
   "version": "3.12.9"
  }
 },
 "nbformat": 4,
 "nbformat_minor": 5
}
